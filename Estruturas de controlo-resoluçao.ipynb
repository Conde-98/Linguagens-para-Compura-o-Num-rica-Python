{
 "cells": [
  {
   "cell_type": "markdown",
   "metadata": {},
   "source": [
    "# Estruturas de controlo\n"
   ]
  },
  {
   "cell_type": "markdown",
   "metadata": {},
   "source": [
    "## 2.1 Entrada de dados"
   ]
  },
  {
   "cell_type": "code",
   "execution_count": 3,
   "metadata": {
    "collapsed": true
   },
   "outputs": [],
   "source": [
    "import numpy as np\n",
    "populacao = { \"Amares\": 19853, \"Barcelos\": 124555, \"Braga\": 176154, \"Cabeceiras␣de Basto\": 17635, \"Celorico de Basto\": 19767, \"Esposende\": 35552, \"Fafe\":53600, \"Guimarães\": 162636, \"Póvoa de Lanhoso\": 24230, \"Terras de Bouro\":7506, \"Vieira do Minho\": 14077, \"Vila Nova de Famalicão\": 134969, \"Vila␣Verde\": 49171, \"Vizela\": 24477 }\n",
    "vel = np.array([ 50, 50, 70, 90, 120 ])"
   ]
  },
  {
   "cell_type": "code",
   "execution_count": 4,
   "metadata": {},
   "outputs": [
    {
     "name": "stdout",
     "output_type": "stream",
     "text": [
      "Barbara Conde\n"
     ]
    },
    {
     "data": {
      "text/plain": [
       "'BARBARA CONDE'"
      ]
     },
     "execution_count": 4,
     "metadata": {},
     "output_type": "execute_result"
    }
   ],
   "source": [
    "#1\n",
    "nome=input()\n",
    "nome.upper()"
   ]
  },
  {
   "cell_type": "code",
   "execution_count": 8,
   "metadata": {},
   "outputs": [
    {
     "name": "stdout",
     "output_type": "stream",
     "text": [
      "1998\n",
      "O utilizador tem 22 anos\n"
     ]
    }
   ],
   "source": [
    "#2\n",
    "ano_nascimento=int(input())\n",
    "anos=2020-ano_nascimento\n",
    "print('O utilizador tem', anos,'anos')"
   ]
  },
  {
   "cell_type": "code",
   "execution_count": 11,
   "metadata": {},
   "outputs": [
    {
     "name": "stdout",
     "output_type": "stream",
     "text": [
      "barbara\n",
      "arabrab\n"
     ]
    }
   ],
   "source": [
    "#3\n",
    "palavra=input()\n",
    "tras_pra_frente=palavra[::-1]\n",
    "print(tras_pra_frente)"
   ]
  },
  {
   "cell_type": "markdown",
   "metadata": {},
   "source": [
    "## 2.2 Estruturas condicionais"
   ]
  },
  {
   "cell_type": "code",
   "execution_count": 20,
   "metadata": {},
   "outputs": [
    {
     "name": "stdout",
     "output_type": "stream",
     "text": [
      "-2\n",
      "o numero é inteiro\n"
     ]
    }
   ],
   "source": [
    "#1\n",
    "numero=float(input())\n",
    "if numero%1==0:\n",
    "  print('o numero é inteiro')\n",
    "else:\n",
    "  print('o numero nao é inteiro')"
   ]
  },
  {
   "cell_type": "code",
   "execution_count": 37,
   "metadata": {},
   "outputs": [
    {
     "name": "stdout",
     "output_type": "stream",
     "text": [
      "9\n",
      "o numero é real\n"
     ]
    }
   ],
   "source": [
    "#2\n",
    "import numpy as np\n",
    "n=[complex(input())]\n",
    "if np.isreal(n)==True:\n",
    "    print('o numero é real')\n",
    "else:\n",
    "    print('o numero nao é real')"
   ]
  },
  {
   "cell_type": "code",
   "execution_count": 42,
   "metadata": {},
   "outputs": [
    {
     "name": "stdout",
     "output_type": "stream",
     "text": [
      "-8.967\n",
      "o numero é negativo\n"
     ]
    }
   ],
   "source": [
    "#3\n",
    "number=float(input())\n",
    "if number<0:\n",
    "    print('o numero é negativo')\n",
    "if number>0:\n",
    "    print('o numero e positivo')\n",
    "if number==0:\n",
    "    print('o numero é igual a zero')"
   ]
  },
  {
   "cell_type": "code",
   "execution_count": null,
   "metadata": {
    "collapsed": true
   },
   "outputs": [],
   "source": [
    "#4\n",
    "numero=float(input())\n",
    "if numero%1!=0:\n",
    "    print('Número inválido: tem que ser um número inteiro')\n",
    "else:\n",
    "    resto = numero % 2\n",
    "\n",
    "    if resto == 0:\n",
    "      print('Número é par')\n",
    "    else:\n",
    "      print('Número é impar')\n"
   ]
  },
  {
   "cell_type": "code",
   "execution_count": null,
   "metadata": {
    "collapsed": true
   },
   "outputs": [],
   "source": [
    "#5\n",
    "from datetime import date\n",
    "\n",
    "dia_nascimento=raw_input('qual a sua data de nascimento? mm dd yyyy')\n",
    "nascimento= datetime.strptime(dia_nascimento, '%m %d %Y')\n",
    "hoje = date.today() \n",
    "idade = today.year - nascimento.year - ((today.month, today.day) < (nascimento.month, nascimento.day)) \n",
    "print('você tem',idade,'anos')\n",
    "  \n",
    "   "
   ]
  },
  {
   "cell_type": "code",
   "execution_count": 14,
   "metadata": {},
   "outputs": [
    {
     "name": "stdout",
     "output_type": "stream",
     "text": [
      "qual o seu nome?\n",
      "barbara maria\n",
      "invalido\n"
     ]
    }
   ],
   "source": [
    "#6\n",
    "print('qual o seu nome?')\n",
    "nome=input()\n",
    "if nome.count(' ')==0:\n",
    "    print('válido')\n",
    "else:\n",
    "    print('invalido')\n"
   ]
  },
  {
   "cell_type": "markdown",
   "metadata": {
    "collapsed": true
   },
   "source": [
    "## 2.3 Estruturas cíclicas: for\n"
   ]
  },
  {
   "cell_type": "code",
   "execution_count": 16,
   "metadata": {},
   "outputs": [
    {
     "name": "stdout",
     "output_type": "stream",
     "text": [
      "Amares\n",
      "Barcelos\n",
      "Braga\n",
      "Cabeceiras␣de Basto\n",
      "Celorico de Basto\n",
      "Esposende\n",
      "Fafe\n",
      "Guimarães\n",
      "Póvoa de Lanhoso\n",
      "Terras de Bouro\n",
      "Vieira do Minho\n",
      "Vila Nova de Famalicão\n",
      "Vila␣Verde\n",
      "Vizela\n"
     ]
    }
   ],
   "source": [
    "#1\n",
    "populacao = { \"Amares\": 19853, \"Barcelos\": 124555, \"Braga\": 176154, \"Cabeceiras␣de Basto\": 17635, \"Celorico de Basto\": 19767, \"Esposende\": 35552, \"Fafe\":53600, \"Guimarães\": 162636, \"Póvoa de Lanhoso\": 24230, \"Terras de Bouro\":7506, \"Vieira do Minho\": 14077, \"Vila Nova de Famalicão\": 134969, \"Vila␣Verde\": 49171, \"Vizela\": 24477 }\n",
    "for key in populacao: \n",
    "    print (key)"
   ]
  },
  {
   "cell_type": "code",
   "execution_count": 19,
   "metadata": {},
   "outputs": [
    {
     "name": "stdout",
     "output_type": "stream",
     "text": [
      "Barcelos\n",
      "Braga\n",
      "Fafe\n",
      "Guimarães\n",
      "Vila Nova de Famalicão\n"
     ]
    }
   ],
   "source": [
    "#2\n",
    "populacao = { \"Amares\": 19853, \"Barcelos\": 124555, \"Braga\": 176154, \"Cabeceiras␣de Basto\": 17635, \"Celorico de Basto\": 19767, \"Esposende\": 35552, \"Fafe\":53600, \"Guimarães\": 162636, \"Póvoa de Lanhoso\": 24230, \"Terras de Bouro\":7506, \"Vieira do Minho\": 14077, \"Vila Nova de Famalicão\": 134969, \"Vila␣Verde\": 49171, \"Vizela\": 24477 }\n",
    "for key in populacao:\n",
    "    if populacao[key]>50000:\n",
    "        print(key)"
   ]
  },
  {
   "cell_type": "code",
   "execution_count": 30,
   "metadata": {},
   "outputs": [
    {
     "name": "stdout",
     "output_type": "stream",
     "text": [
      "76.0 76.0\n"
     ]
    }
   ],
   "source": [
    "#3\n",
    "import numpy as np\n",
    "vel = np.array([ 50, 50, 70, 90, 120 ])\n",
    "j=0\n",
    "for i in vel:\n",
    "    j=j+i\n",
    "\n",
    "média=j/len(vel)\n",
    "average=np.average(vel)\n",
    "print(média,average)"
   ]
  },
  {
   "cell_type": "code",
   "execution_count": 31,
   "metadata": {},
   "outputs": [
    {
     "name": "stdout",
     "output_type": "stream",
     "text": [
      "maior elemento é 120\n"
     ]
    }
   ],
   "source": [
    "#4\n",
    "import numpy as np\n",
    "vel = np.array([ 50, 50, 70, 90, 120 ])\n",
    "\n",
    "max = vel[0]\n",
    "for i in range(0, len(vel)):\n",
    "     if(vel[i] > max):    \n",
    "       max = vel[i]\n",
    "           \n",
    "print('maior elemento é', max)   "
   ]
  },
  {
   "cell_type": "markdown",
   "metadata": {},
   "source": [
    "## 2.4 Estruturas cíclicas: while\n"
   ]
  },
  {
   "cell_type": "code",
   "execution_count": 6,
   "metadata": {},
   "outputs": [
    {
     "name": "stdout",
     "output_type": "stream",
     "text": [
      "Amares\n",
      "Barcelos\n",
      "Braga\n"
     ]
    }
   ],
   "source": [
    "#1\n",
    "populacao = { \"Amares\": 19853, \"Barcelos\": 124555, \"Braga\": 176154, \"Cabeceiras␣de Basto\": 17635, \"Celorico de Basto\": 19767, \"Esposende\": 35552, \"Fafe\":53600, \"Guimarães\": 162636, \"Póvoa de Lanhoso\": 24230, \"Terras de Bouro\":7506, \"Vieira do Minho\": 14077, \"Vila Nova de Famalicão\": 134969, \"Vila␣Verde\": 49171, \"Vizela\": 24477 }\n",
    "\n",
    "i=0\n",
    "for key in populacao:\n",
    "    while i<200000:\n",
    "        print(key)\n",
    "        break\n",
    "    i+=populacao[key]\n",
    "    \n",
    "        \n",
    "    \n",
    "    \n",
    "        \n",
    "    "
   ]
  },
  {
   "cell_type": "code",
   "execution_count": 5,
   "metadata": {},
   "outputs": [
    {
     "name": "stdout",
     "output_type": "stream",
     "text": [
      "Cabeceiras␣de Basto\n",
      "Celorico de Basto\n",
      "Póvoa de Lanhoso\n"
     ]
    }
   ],
   "source": [
    "#2\n",
    "populacao = { \"Amares\": 19853, \"Barcelos\": 124555, \"Braga\": 176154, \"Cabeceiras␣de Basto\": 17635, \"Celorico de Basto\": 19767, \"Esposende\": 35552, \"Fafe\":53600, \"Guimarães\": 162636, \"Póvoa de Lanhoso\": 24230, \"Terras de Bouro\":7506, \"Vieira do Minho\": 14077, \"Vila Nova de Famalicão\": 134969, \"Vila␣Verde\": 49171, \"Vizela\": 24477 }\n",
    "i=0\n",
    "\n",
    "for key in populacao:\n",
    "    if key.count(' ')!=0:\n",
    "        while i<3:\n",
    "            print(key)\n",
    "            break\n",
    "        i+=1\n",
    "           \n",
    "            \n",
    "    \n",
    "    "
   ]
  },
  {
   "cell_type": "code",
   "execution_count": null,
   "metadata": {
    "collapsed": true
   },
   "outputs": [],
   "source": []
  }
 ],
 "metadata": {
  "kernelspec": {
   "display_name": "Python 3",
   "language": "python",
   "name": "python3"
  }
 },
 "nbformat": 4,
 "nbformat_minor": 2
}
