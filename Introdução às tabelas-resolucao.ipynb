{
 "cells": [
  {
   "cell_type": "markdown",
   "metadata": {},
   "source": [
    "# 1 Tabelas"
   ]
  },
  {
   "cell_type": "markdown",
   "metadata": {},
   "source": [
    "## Exercícios"
   ]
  },
  {
   "cell_type": "code",
   "execution_count": 13,
   "metadata": {},
   "outputs": [
    {
     "name": "stdout",
     "output_type": "stream",
     "text": [
      "os anos que se verificou a taxa minima de natalidade foram \n",
      " 2    2013\n",
      "3    2014\n",
      "Name: Ano, dtype: int64\n"
     ]
    }
   ],
   "source": [
    "import pandas\n",
    "\n",
    "#1.1.9 Exercício\n",
    "população = pandas.DataFrame({'Ano': [ 2011, 2012, 2013, 2014, 2015, 2016, 2017, 2018 ],'Natalidade': [ 9.2, 8.5, 7.9, 7.9, 8.3, 8.4, 8.4, 8.5 ],'Mortalidade': [ 9.7, 10.2, 10.2, 10.1, 10.5, 10.7, 10.7, 11.0 ]})\n",
    "\n",
    "minimo=população.loc[população['Natalidade']==7.9]\n",
    "print('os anos que se verificou a taxa minima de natalidade foram \\n', minimo.Ano)"
   ]
  },
  {
   "cell_type": "code",
   "execution_count": 21,
   "metadata": {},
   "outputs": [
    {
     "name": "stdout",
     "output_type": "stream",
     "text": [
      "a taxa bruta de natalidade média entre 2015 e 2018 é 8.4\n"
     ]
    }
   ],
   "source": [
    "#1.1.10 Exercício\n",
    "n=população.loc[população['Ano']>=2015]\n",
    "print('a taxa bruta de natalidade média entre 2015 e 2018 é',n.Natalidade.mean())\n"
   ]
  },
  {
   "cell_type": "code",
   "execution_count": 39,
   "metadata": {},
   "outputs": [
    {
     "name": "stdout",
     "output_type": "stream",
     "text": [
      "data_relatorio    2020-03-03\n",
      "Name: 0, dtype: object\n"
     ]
    }
   ],
   "source": [
    "pandemia = pandas.read_csv('https://raw.githubusercontent.com/jgrocha/covid-pt/master/situacao_epidemiologica.csv')\n",
    "\n",
    "#1.1.17 Exercício\n",
    "pandemia.sort_values(by=['data_relatorio'])\n",
    "print(pandemia.loc[0,['data_relatorio']])"
   ]
  },
  {
   "cell_type": "code",
   "execution_count": 67,
   "metadata": {},
   "outputs": [
    {
     "data": {
      "text/plain": [
       "'2020-05-01'"
      ]
     },
     "execution_count": 67,
     "metadata": {},
     "output_type": "execute_result"
    }
   ],
   "source": [
    "#1.1.18 Exercício\n",
    "\n",
    "p=pandemia[(pandemia['obitos']>=1000)]\n",
    "p.data_relatorio.min()\n",
    "\n"
   ]
  },
  {
   "cell_type": "code",
   "execution_count": null,
   "metadata": {
    "collapsed": true
   },
   "outputs": [],
   "source": []
  }
 ],
 "metadata": {
  "kernelspec": {
   "display_name": "Python 3",
   "language": "python",
   "name": "python3"
  },
  "language_info": {
   "codemirror_mode": {
    "name": "ipython",
    "version": 3
   },
   "file_extension": ".py",
   "mimetype": "text/x-python",
   "name": "python",
   "nbconvert_exporter": "python",
   "pygments_lexer": "ipython3",
   "version": "3.6.1"
  }
 },
 "nbformat": 4,
 "nbformat_minor": 2
}
