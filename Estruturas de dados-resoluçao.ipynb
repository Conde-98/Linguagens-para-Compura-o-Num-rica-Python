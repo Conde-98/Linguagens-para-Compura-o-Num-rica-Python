{
 "cells": [
  {
   "cell_type": "markdown",
   "metadata": {},
   "source": [
    "Exercícios de listas"
   ]
  },
  {
   "cell_type": "code",
   "execution_count": 2,
   "metadata": {},
   "outputs": [
    {
     "name": "stdout",
     "output_type": "stream",
     "text": [
      "14\n"
     ]
    }
   ],
   "source": [
    "#exercicio 1\n",
    "\n",
    "concelhos = [ \"Amares\", \"Barcelos\", \"Braga\", \"Cabeceiras de Basto\", \"Celorico de Basto\", \"Esposende\", \"Fafe\", \"Guimarães\", \"Póvoa de Lanhoso\", \"Terras de Bouro\", \"Vieira do Minho\", \"Vila Nova de Famalicão\", \"Vila Verde\", \"Vizela\" ]\n",
    "\n",
    "print (len(concelhos))"
   ]
  },
  {
   "cell_type": "code",
   "execution_count": 7,
   "metadata": {},
   "outputs": [
    {
     "name": "stdout",
     "output_type": "stream",
     "text": [
      "Amares\n"
     ]
    }
   ],
   "source": [
    "# exercicio 2 \n",
    "\n",
    "print( concelhos[0])"
   ]
  },
  {
   "cell_type": "code",
   "execution_count": 8,
   "metadata": {},
   "outputs": [
    {
     "name": "stdout",
     "output_type": "stream",
     "text": [
      "['Amares', 'Vizela']\n"
     ]
    }
   ],
   "source": [
    "# exercicio 3\n",
    "nova_concelhos=[concelhos[0],concelhos[-1]]\n",
    "print(nova_concelhos)"
   ]
  },
  {
   "cell_type": "code",
   "execution_count": 13,
   "metadata": {},
   "outputs": [
    {
     "name": "stdout",
     "output_type": "stream",
     "text": [
      "None\n",
      "['Vizela', 'Vila Verde', 'Vila Nova de Famalicão', 'Vieira do Minho', 'Terras de Bouro', 'Póvoa de Lanhoso', 'Guimarães', 'Fafe', 'Esposende', 'Celorico de Basto', 'Cabeceiras de Basto', 'Braga', 'Barcelos', 'Amares']\n"
     ]
    }
   ],
   "source": [
    "# exercicio 4\n",
    "\n",
    "print(concelhos.sort(reverse=True))\n",
    "print(sorted(concelhos,reverse=True))"
   ]
  },
  {
   "cell_type": "markdown",
   "metadata": {},
   "source": [
    "Exercícios de Dicionários"
   ]
  },
  {
   "cell_type": "code",
   "execution_count": 19,
   "metadata": {},
   "outputs": [
    {
     "name": "stdout",
     "output_type": "stream",
     "text": [
      "24477\n"
     ]
    }
   ],
   "source": [
    "populacao = { \"Amares\": 19853, \"Barcelos\": 124555, \"Braga\": 176154, \"Cabeceiras de Basto\": 17635, \"Celorico de Basto\": 19767, \"Esposende\": 35552, \"Fafe\": 53600, \"Guimarães\": 162636, \"Póvoa de Lanhoso\": 24230, \"Terras de Bouro\": 7506, \"Vieira do Minho\": 14077, \"Vila Nova de Famalicão\": 134969, \"Vila Verde\": 49171, \"Vizela\": 24477 }\n",
    "\n",
    "# exercicio 1\n",
    "print(populacao[\"Vizela\"])"
   ]
  },
  {
   "cell_type": "code",
   "execution_count": 20,
   "metadata": {},
   "outputs": [
    {
     "name": "stdout",
     "output_type": "stream",
     "text": [
      "Braga\n"
     ]
    }
   ],
   "source": [
    "# exercicio 2\n",
    "\n",
    "print (max(populacao, key=populacao.get))"
   ]
  },
  {
   "cell_type": "code",
   "execution_count": 21,
   "metadata": {},
   "outputs": [
    {
     "name": "stdout",
     "output_type": "stream",
     "text": [
      "864182\n"
     ]
    }
   ],
   "source": [
    "#exercico 3\n",
    "\n",
    "print(sum(populacao.values()))"
   ]
  },
  {
   "cell_type": "code",
   "execution_count": 24,
   "metadata": {},
   "outputs": [
    {
     "name": "stdout",
     "output_type": "stream",
     "text": [
      "[176154, 162636, 134969, 124555, 53600, 49171, 35552, 24477, 24230, 19853, 19767, 17635, 14077, 7506]\n"
     ]
    }
   ],
   "source": [
    "#exercicio 4\n",
    "print(sorted(populacao.values(),reverse=True))\n"
   ]
  },
  {
   "cell_type": "markdown",
   "metadata": {},
   "source": [
    "Exercicios de Arrays"
   ]
  },
  {
   "cell_type": "code",
   "execution_count": 25,
   "metadata": {},
   "outputs": [
    {
     "name": "stdout",
     "output_type": "stream",
     "text": [
      "76.0\n"
     ]
    }
   ],
   "source": [
    "#exercicio 1\n",
    "import numpy as np\n",
    "vel = np.array([ 50, 50, 70, 90, 120 ])\n",
    "\n",
    "print(sum(vel)/len(vel))"
   ]
  },
  {
   "cell_type": "code",
   "execution_count": 27,
   "metadata": {},
   "outputs": [
    {
     "name": "stdout",
     "output_type": "stream",
     "text": [
      "50\n"
     ]
    }
   ],
   "source": [
    "# exercicio 2\n",
    "print(min(vel))"
   ]
  },
  {
   "cell_type": "code",
   "execution_count": 30,
   "metadata": {},
   "outputs": [
    {
     "name": "stdout",
     "output_type": "stream",
     "text": [
      "[ 2  3 -6 -5  2 -6 -5  2 -9  1]\n"
     ]
    }
   ],
   "source": [
    "# exercicio 3\n",
    "\n",
    "print( np.random.randint(-10, 10, size=10))"
   ]
  },
  {
   "cell_type": "code",
   "execution_count": null,
   "metadata": {
    "collapsed": true
   },
   "outputs": [],
   "source": []
  }
 ],
 "metadata": {
  "kernelspec": {
   "display_name": "Python 3",
   "language": "python",
   "name": "python3"
  },
  "language_info": {
   "codemirror_mode": {
    "name": "ipython",
    "version": 3
   },
   "file_extension": ".py",
   "mimetype": "text/x-python",
   "name": "python",
   "nbconvert_exporter": "python",
   "pygments_lexer": "ipython3",
   "version": "3.6.1"
  }
 },
 "nbformat": 4,
 "nbformat_minor": 2
}
